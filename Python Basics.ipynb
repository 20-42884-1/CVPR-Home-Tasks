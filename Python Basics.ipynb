{
 "cells": [
  {
   "cell_type": "code",
   "execution_count": 1,
   "id": "7932a9ba",
   "metadata": {},
   "outputs": [
    {
     "name": "stdout",
     "output_type": "stream",
     "text": [
      "1 + 1 \t= 2\n",
      "2 + 2 \t= 4\n",
      "4 + 3 \t= 7\n",
      "7 + 4 \t= 11\n",
      "11 + 5 \t= 16\n",
      "16 + 6 \t= 22\n",
      "22 + 7 \t= 29\n",
      "29 + 8 \t= 37\n",
      "37 + 9 \t= 46\n",
      "Final sum: 46\n"
     ]
    }
   ],
   "source": [
    "acc = 1\n",
    "for x in range(1, 10):\n",
    "    print(f\"{acc} + {x} \\t= \", end=\"\")\n",
    "    acc += x\n",
    "    print(acc)\n",
    "\n",
    "print(f\"Final sum: {acc}\")"
   ]
  },
  {
   "cell_type": "code",
   "execution_count": null,
   "id": "56acbf81",
   "metadata": {},
   "outputs": [],
   "source": []
  },
  {
   "cell_type": "code",
   "execution_count": 2,
   "id": "43762946",
   "metadata": {},
   "outputs": [
    {
     "name": "stdout",
     "output_type": "stream",
     "text": [
      "Using Numeric variable = 3.141592653589793\n",
      "|        3.141592653589793|\n",
      "|3.141592653589793        |\n",
      "|        3.141592653589793|\n",
      "|    3.141592653589793    |\n",
      "\n"
     ]
    }
   ],
   "source": [
    "import math as mt\n",
    "variable = mt.pi\n",
    "\n",
    "print(f\"Using Numeric {variable = }\")\n",
    "print(f\"|{variable:25}|\")\n",
    "print(f\"|{variable:<25}|\")\n",
    "print(f\"|{variable:>25}|\")\n",
    "print(f\"|{variable:^25}|\\n\")"
   ]
  },
  {
   "cell_type": "code",
   "execution_count": 3,
   "id": "0f529497",
   "metadata": {},
   "outputs": [
    {
     "name": "stdout",
     "output_type": "stream",
     "text": [
      "|25  + -82| = 57\n",
      "|28  + -79| = 51\n",
      "|31  + -76| = 45\n",
      "|34  + -73| = 39\n",
      "|37  + -70| = 33\n",
      "|40  + -67| = 27\n",
      "|43  + -64| = 21\n",
      "|46  + -61| = 15\n"
     ]
    }
   ],
   "source": [
    "a = 25\n",
    "b = -82\n",
    "\n",
    "for x in range(0, 24, +3):\n",
    "    print(f\"|{a+x:<3} + {b+x:>3}| = \", end=\"\")\n",
    "    print(abs(a+2*x+b))"
   ]
  },
  {
   "cell_type": "code",
   "execution_count": 4,
   "id": "3996d74e",
   "metadata": {},
   "outputs": [
    {
     "name": "stdout",
     "output_type": "stream",
     "text": [
      "Using Numeric variable = 1200356.87964748\n",
      "With two decimal places: 1200356.88\n",
      "With four decimal places: 1200356.8796\n",
      "With two decimal places and a comma: 1,200,356.88\n",
      "With a forced plus sign: +1200356.88\n",
      "\n",
      "Using Numeric variable = -1200356.87964748\n",
      "With two decimal places and a comma: -1,200,356.88\n"
     ]
    }
   ],
   "source": [
    "variable = 1200356.87964748\n",
    "print(f\"Using Numeric {variable = }\")\n",
    "print(f\"With two decimal places: {variable:.2f}\")\n",
    "print(f\"With four decimal places: {variable:.4f}\")\n",
    "print(f\"With two decimal places and a comma: {variable:,.2f}\")\n",
    "print(f\"With a forced plus sign: {variable:+.2f}\\n\")\n",
    "\n",
    "variable *= -1\n",
    "print(f\"Using Numeric {variable = }\")\n",
    "print(f\"With two decimal places and a comma: {variable:,.2f}\")"
   ]
  },
  {
   "cell_type": "code",
   "execution_count": 5,
   "id": "61f0678c",
   "metadata": {},
   "outputs": [
    {
     "name": "stdout",
     "output_type": "stream",
     "text": [
      "Number \t\t Square \t Cube\n",
      "|  1 \t\t   1 \t\t 1   |\n",
      "|  2 \t\t   4 \t\t 8   |\n",
      "|  3 \t\t   9 \t\t 27  |\n",
      "|  4 \t\t  16 \t\t 64  |\n",
      "|  5 \t\t  25 \t\t 125 |\n",
      "|  6 \t\t  36 \t\t 216 |\n",
      "|  7 \t\t  49 \t\t 343 |\n",
      "|  8 \t\t  64 \t\t 512 |\n",
      "|  9 \t\t  81 \t\t 729 |\n",
      "| 10 \t\t 100 \t\t 1000|\n"
     ]
    }
   ],
   "source": [
    "print(f'Number \\t\\t Square \\t Cube')\n",
    "\n",
    "for x in range(1, 11):\n",
    "    print(f\"|{x:3d} \\t\\t {x*x:3d} \\t\\t {x*x*x:<4d}|\")"
   ]
  },
  {
   "cell_type": "code",
   "execution_count": 6,
   "id": "9a138722",
   "metadata": {},
   "outputs": [
    {
     "name": "stdout",
     "output_type": "stream",
     "text": [
      "                 My Grocery List                  \n",
      "==================================================\n",
      "Product \t Qty \t Price \t   Total Price\n",
      "==================================================\n",
      "Apples             5      2.75 \t\t$13.75\n",
      "Rye Bread         10      3.50 \t\t$35.00\n",
      "Cheese             1     67.25 \t\t$67.25\n",
      "                        TOTAL:\t\t$116.00\n"
     ]
    }
   ],
   "source": [
    "APPLES = 2.75\n",
    "BREAD = 3.50\n",
    "CHEESE = 67.25\n",
    "\n",
    "numApples = 5\n",
    "numBread = 10\n",
    "numCheese = 1\n",
    "\n",
    "prcApples = numApples * APPLES\n",
    "prcBread = numBread * BREAD\n",
    "prcCheese = numCheese * CHEESE\n",
    "\n",
    "strApples = 'Apples'\n",
    "strBread = 'Rye Bread'\n",
    "strCheese = 'Cheese'\n",
    "\n",
    "total = prcBread + prcCheese + prcApples\n",
    "\n",
    "print(f'{\"My Grocery List\":^50s}')\n",
    "print(f'{\"=\"*50}')\n",
    "print(f'Product \\t Qty \\t Price \\t   Total Price')\n",
    "print(f'{\"=\"*50}')\n",
    "print(f'{strApples:10s}{numApples:10d}{APPLES:10.2f} \\t\\t${prcApples:>5.2f}')\n",
    "print(f'{strBread:10s}{numBread:10d}{BREAD:10.2f} \\t\\t${prcBread:>5.2f}')\n",
    "print(f'{strCheese:10s}{numCheese:10d}{CHEESE:10.2f} \\t\\t${prcCheese:>5.2f}')\n",
    "print(f'{\"TOTAL:\":>30s}\\t\\t${total:>5.2f}')"
   ]
  },
  {
   "cell_type": "code",
   "execution_count": 7,
   "id": "d175babf",
   "metadata": {},
   "outputs": [
    {
     "name": "stdout",
     "output_type": "stream",
     "text": [
      "{'MBA', 'EEE'} \t\t\t\t <class 'set'>\n",
      "('MBA', 'EEE', 'MBA', 'EEE') \t\t <class 'tuple'>\n",
      "['MBA', 'EEE', 'MBA', 'EEE'] \t\t <class 'list'>\n",
      "{'MBA': 12, 'EEE': 33, 'ARCH': 12} \t <class 'dict'>\n"
     ]
    }
   ],
   "source": [
    "depts = {\"MBA\",\"EEE\",\"MBA\",\"EEE\"}\n",
    "print(depts, \"\\t\\t\\t\\t\",  type(depts))\n",
    "\n",
    "depts = (\"MBA\",\"EEE\",\"MBA\",\"EEE\")\n",
    "print(depts, \"\\t\\t\",  type(depts))\n",
    "\n",
    "depts = [\"MBA\",\"EEE\",\"MBA\",\"EEE\"]\n",
    "print(depts, \"\\t\\t\",  type(depts))\n",
    "\n",
    "depts = {\"MBA\":23,\"EEE\":44,\"MBA\":12,\"EEE\":33, \"ARCH\":12}\n",
    "print(depts, \"\\t\", type(depts))"
   ]
  },
  {
   "cell_type": "code",
   "execution_count": 8,
   "id": "4a0b53e8",
   "metadata": {},
   "outputs": [
    {
     "name": "stdout",
     "output_type": "stream",
     "text": [
      "{'BBA', 'MBA', 'EEE', 'ARCHI'}\n",
      "{'CSE', 'EEE', 'BBA', 'MBA', 'ARCHI'}\n",
      "{'CSE', 'EEE', 'BBA', 'MBA', 'ARCHI'}\n"
     ]
    }
   ],
   "source": [
    "depts = {\"MBA\",\"EEE\",\"BBA\",\"ARCHI\"}\n",
    "print(depts)\n",
    "depts.add(\"CSE\")\n",
    "print(depts)\n",
    "depts.add(\"MBA\")\n",
    "depts.add(\"EEE\")\n",
    "print(depts)"
   ]
  },
  {
   "cell_type": "code",
   "execution_count": 9,
   "id": "44ef4d13",
   "metadata": {},
   "outputs": [
    {
     "name": "stdout",
     "output_type": "stream",
     "text": [
      "{'mahedi': 93.77, 'rabbi': 94.0, 'ahsan': 92.5} <class 'dict'>\n"
     ]
    },
    {
     "data": {
      "text/plain": [
       "93.77"
      ]
     },
     "execution_count": 9,
     "metadata": {},
     "output_type": "execute_result"
    }
   ],
   "source": [
    "std = {'mahedi': 93.77, 'rabbi': 94.00, 'ahsan': 92.5}\n",
    "print(std, type(std))\n",
    "\n",
    "std.get(\"mahedi\")"
   ]
  },
  {
   "cell_type": "code",
   "execution_count": 10,
   "id": "f239ee8e",
   "metadata": {},
   "outputs": [
    {
     "name": "stdout",
     "output_type": "stream",
     "text": [
      "dict_keys(['mahedi', 'rabbi', 'ahsan'])\n",
      "dict_values([93.77, 94.0, 92.5])\n"
     ]
    }
   ],
   "source": [
    "print(std.keys())\n",
    "print(std.values())"
   ]
  },
  {
   "cell_type": "code",
   "execution_count": 11,
   "id": "4570bcac",
   "metadata": {},
   "outputs": [
    {
     "name": "stdout",
     "output_type": "stream",
     "text": [
      "[1, 2, 3]\n",
      "[1, 2]\n",
      "[4, 5, 6, 7, 8, 9]\n",
      "[1, 2, 3, 4, 5, 6, 7, 8]\n",
      "[3, 4, 5, 6, 7]\n"
     ]
    }
   ],
   "source": [
    "a = [1,2,3,4,5,6,7,8,9]\n",
    "print(a[0:3]) # slicing operator\n",
    "print(a[:2])\n",
    "print(a[3:])\n",
    "print(a[:-1])\n",
    "print(a[2:-2])"
   ]
  },
  {
   "cell_type": "code",
   "execution_count": 12,
   "id": "4261dcec",
   "metadata": {},
   "outputs": [
    {
     "name": "stdout",
     "output_type": "stream",
     "text": [
      "[2, 20, 40, 6, -4, 0]\n"
     ]
    }
   ],
   "source": [
    "nums = [ 1, 10, 20, 3, -2, 0]\n",
    "print(list(map(lambda a: a+a, nums)))"
   ]
  },
  {
   "cell_type": "code",
   "execution_count": 13,
   "id": "b041c8df",
   "metadata": {},
   "outputs": [
    {
     "name": "stdout",
     "output_type": "stream",
     "text": [
      "[10, 20]\n"
     ]
    }
   ],
   "source": [
    "print(list(filter(lambda a: a>3, nums)))"
   ]
  },
  {
   "cell_type": "code",
   "execution_count": 14,
   "id": "5d7f105c",
   "metadata": {},
   "outputs": [
    {
     "name": "stdout",
     "output_type": "stream",
     "text": [
      "[False, True, True, False, False, False]\n"
     ]
    }
   ],
   "source": [
    "print(list(map(lambda a: a>3, nums)))"
   ]
  },
  {
   "cell_type": "code",
   "execution_count": 15,
   "id": "7fee99c2",
   "metadata": {},
   "outputs": [
    {
     "name": "stdout",
     "output_type": "stream",
     "text": [
      "32\n",
      "32\n"
     ]
    }
   ],
   "source": [
    "from functools import reduce\n",
    "\n",
    "l = [ 1, 10, 20, 3, -2, 0]\n",
    "result = reduce(lambda x,y: x+y,l)\n",
    "print(result)\n",
    "print(sum(l))"
   ]
  },
  {
   "cell_type": "code",
   "execution_count": 28,
   "id": "f7316d77",
   "metadata": {},
   "outputs": [
    {
     "data": {
      "text/plain": [
       "900"
      ]
     },
     "execution_count": 28,
     "metadata": {},
     "output_type": "execute_result"
    }
   ],
   "source": [
    "(lambda a,b : a * b) (15, 60)  # multiplies 5 and 6 with one line code"
   ]
  },
  {
   "cell_type": "code",
   "execution_count": 43,
   "id": "1597dbdf",
   "metadata": {},
   "outputs": [
    {
     "name": "stdout",
     "output_type": "stream",
     "text": [
      "90\n"
     ]
    }
   ],
   "source": [
    "add = lambda *args : sum(args)\n",
    "print(add(20, 10, 15, 45))"
   ]
  },
  {
   "cell_type": "code",
   "execution_count": 51,
   "id": "bc17d68c",
   "metadata": {},
   "outputs": [
    {
     "name": "stdout",
     "output_type": "stream",
     "text": [
      "420\n",
      "What happned?\n",
      " x + fun(x) \n",
      " => x + x*x \n",
      " => 20 + 20 * 20 = 420\n"
     ]
    }
   ],
   "source": [
    "higher_order_func = lambda x, fun : x + fun(x)\n",
    "print(higher_order_func(20, lambda x: x * x))\n",
    "print(f'What happned?\\n x + fun(x) \\n => x + x*x \\n => {20} + {20} * {20} = {higher_order_func(20, lambda x: x*x)}')"
   ]
  },
  {
   "cell_type": "markdown",
   "id": "fa2e60f8",
   "metadata": {},
   "source": [
    "MAP and FILTER"
   ]
  },
  {
   "cell_type": "code",
   "execution_count": 56,
   "id": "bf4e7fff",
   "metadata": {},
   "outputs": [
    {
     "name": "stdout",
     "output_type": "stream",
     "text": [
      "[12, 34, 8, 12]\n",
      "[2, -7, -17, 3, -1]\n",
      "[2, 12, 34, 8, 12]\n"
     ]
    }
   ],
   "source": [
    "z = [2, 12, -7, 5, 34, -17, 8, 3, -1, 12]\n",
    "\n",
    "greater = list(filter(lambda a : a > 5, z))\n",
    "print(greater)\n",
    "lesser = list(filter(lambda a : a < 5, z))\n",
    "print(lesser)\n",
    "even = list(filter(lambda a : a%2 == 0, z))\n",
    "print(even)"
   ]
  },
  {
   "cell_type": "code",
   "execution_count": 58,
   "id": "30ea33f6",
   "metadata": {},
   "outputs": [
    {
     "name": "stdout",
     "output_type": "stream",
     "text": [
      "[4, 24, -14, 10, 68, -34, 16, 6, -2, 24]\n",
      "[8, 1728, -343, 125, 39304, -4913, 512, 27, -1, 1728]\n"
     ]
    }
   ],
   "source": [
    "double = list(map(lambda a : a*2, z))\n",
    "print(double)\n",
    "cube = list(map(lambda a : pow(a,3), z))\n",
    "print(cube)"
   ]
  },
  {
   "cell_type": "markdown",
   "id": "7f6f71cb",
   "metadata": {},
   "source": [
    "REDUCE"
   ]
  },
  {
   "cell_type": "code",
   "execution_count": 63,
   "id": "79a39d5c",
   "metadata": {},
   "outputs": [
    {
     "name": "stdout",
     "output_type": "stream",
     "text": [
      "Using Reduce:\t51\n",
      "Using Sum:\t51\n"
     ]
    }
   ],
   "source": [
    "summ = reduce((lambda x, y : x+y), z)\n",
    "print(f'Using Reduce:\\t{summ}')\n",
    "print(f'Using Sum:\\t{sum(z)}')"
   ]
  },
  {
   "cell_type": "markdown",
   "id": "ee30a1c7",
   "metadata": {},
   "source": [
    "QUADRATIC Function"
   ]
  },
  {
   "cell_type": "code",
   "execution_count": 70,
   "id": "11a7bd66",
   "metadata": {},
   "outputs": [
    {
     "name": "stdout",
     "output_type": "stream",
     "text": [
      "60 \n",
      "What happened?\n",
      " fun(2)\n",
      " => a*x**2 + b*x + c\n",
      " => 5*2**2 + 15*2 + 10\n",
      " => 60\n"
     ]
    }
   ],
   "source": [
    "def qudratic(a,b,c):\n",
    "    return lambda x : a*x**2 + b*x + c\n",
    "\n",
    "fun = qudratic(5, 15, 10)\n",
    "\n",
    "print(fun(2), f'\\nWhat happened?\\n fun(2)\\n => a*x**2 + b*x + c\\n => 5*2**2 + 15*2 + 10\\n => {fun(2)}')"
   ]
  }
 ],
 "metadata": {
  "kernelspec": {
   "display_name": "Python 3 (ipykernel)",
   "language": "python",
   "name": "python3"
  },
  "language_info": {
   "codemirror_mode": {
    "name": "ipython",
    "version": 3
   },
   "file_extension": ".py",
   "mimetype": "text/x-python",
   "name": "python",
   "nbconvert_exporter": "python",
   "pygments_lexer": "ipython3",
   "version": "3.9.12"
  }
 },
 "nbformat": 4,
 "nbformat_minor": 5
}
